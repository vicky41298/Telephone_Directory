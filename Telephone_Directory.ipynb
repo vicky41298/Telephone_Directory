{
 "cells": [
  {
   "cell_type": "code",
   "execution_count": 1,
   "id": "816de121",
   "metadata": {},
   "outputs": [
    {
     "name": "stdout",
     "output_type": "stream",
     "text": [
      "Requirement already satisfied: dnspython in c:\\users\\hp\\anaconda3\\lib\\site-packages (2.2.1)\n",
      "Requirement already satisfied: pymongo[srv] in c:\\users\\hp\\anaconda3\\lib\\site-packages (4.3.2)\n",
      "Requirement already satisfied: dnspython<3.0.0,>=1.16.0 in c:\\users\\hp\\anaconda3\\lib\\site-packages (from pymongo[srv]) (2.2.1)\n"
     ]
    }
   ],
   "source": [
    "!pip install dnspython\n",
    "!pip install pymongo[srv]"
   ]
  },
  {
   "cell_type": "code",
   "execution_count": 2,
   "id": "7c4b9ff2",
   "metadata": {},
   "outputs": [],
   "source": [
    "import pymongo\n",
    "client = pymongo.MongoClient(\"mongodb+srv://:vicky@cluster0.mcyak.mongodb.net/?retryWrites=true&w=majority\")\n",
    "db = client.Vi\n",
    "records =db.DS"
   ]
  },
  {
   "cell_type": "code",
   "execution_count": 4,
   "id": "5a012146",
   "metadata": {},
   "outputs": [
    {
     "name": "stdout",
     "output_type": "stream",
     "text": [
      "Welcome\n",
      "Input the appropriate number to perform the action\n",
      "1 -- Search, 2 -- Add, 3-- Delete, 4-- Update\n",
      "4\n",
      "Press 1 if you want to update name \n",
      "Press 2 if you want to update Phone number\n",
      "1\n",
      "Enter Phone Number: 1234567890\n",
      "Record found... Please enter the updated name\n",
      "Enter new name: UpdatedName\n",
      "1234567890 -- UpdatedName record updated successfully\n"
     ]
    }
   ],
   "source": [
    "def inp():\n",
    "    a = int(input())\n",
    "    return a\n",
    "def num():\n",
    "    num = int(input())\n",
    "    return num\n",
    "def starting():\n",
    "    print(\"Welcome\")\n",
    "    print(\"Input the appropriate number to perform the action\")\n",
    "    print(\"1 -- Search, 2 -- Add, 3-- Delete, 4-- Update\")\n",
    "    inpp = inp()\n",
    "    if inpp >= 5 or inpp == 0:\n",
    "        print(\"Enter a valid number to perform the operations\")\n",
    "        print(\"1 -- Search, 2 -- Add, 3-- Delete, 4-- Update\")\n",
    "        inpp = inp()\n",
    "    return inpp\n",
    "def search(): \n",
    "    print(\"Please enter 1 to retrieve Phone Number \\nPlease enter 2 to retrieve Name\")\n",
    "    numm = num()\n",
    "    if numm == 0 or numm > 2:\n",
    "        print(\"Please enter a valid number\")\n",
    "        num()\n",
    "    if numm == 1:\n",
    "        print(\"Enter Name:\")\n",
    "        name = input()\n",
    "        que = {'name':name}\n",
    "        find = records.find(que)\n",
    "        for x in find:\n",
    "            print(f\"Phone number of {name} is {x['Phone']}\")\n",
    "            break\n",
    "    elif numm == 2:\n",
    "        print(\"Enter Phone Number:\")\n",
    "        ph = int(input())\n",
    "        que = {'Phone':ph}\n",
    "        find = records.find(que)\n",
    "        for x in find:\n",
    "            print(f\"The name mapped to the number {ph} is {x['name']}\")\n",
    "            break #1457852002\n",
    "def addition():\n",
    "    name = input(\"Enter Name: \")\n",
    "    Phno = int(input(\"Enter Phone Number: \"))\n",
    "    lii = [\n",
    "      {\"name\": name, \"Phone\":Phno}]\n",
    "    records.insert_many(lii)\n",
    "    print(\"Details Successfully added\")\n",
    "def delete():\n",
    "    print(\"Press 1 if you want to delete by name \\nPress 2 if you want to delete by Phone number\")\n",
    "    choice = int(input())\n",
    "    if choice == 1:\n",
    "        name = input(\"Enter Name: \")\n",
    "        que = {'name':name}\n",
    "        find = records.find(que)\n",
    "        if len(list(find)) > 0: \n",
    "            records.delete_one({'name':name})\n",
    "            print(f\"{name} record deleted successfully\")\n",
    "    elif choice == 2:\n",
    "        phnu = int(input(\"Enter Phone Number: \"))\n",
    "        que = {'Phone':phnu}\n",
    "        find = records.find(que)\n",
    "        if len(list(find)) > 0: \n",
    "            records.delete_one({'Phone':phnu})\n",
    "            print(f\"{phnu} record deleted successfully\")\n",
    "def update():\n",
    "    print(\"Press 1 if you want to update name \\nPress 2 if you want to update Phone number\")\n",
    "    choice = int(input())\n",
    "    if choice == 2:\n",
    "        name = input(\"Enter Name: \")\n",
    "        que = {'name':name}\n",
    "        find = records.find(que)\n",
    "        if len(list(find)) > 0: \n",
    "            print(\"Record found... Please enter the updated name\")\n",
    "            ph = input(\"Enter new Phone number: \")\n",
    "            nee = {\"$set\":{'Phone':ph}}\n",
    "            records.update_one(que,nee)\n",
    "            print(f\"{name} -- {ph} record updated successfully\")\n",
    "    elif choice == 1:\n",
    "        phnu = int(input(\"Enter Phone Number: \"))\n",
    "        que = {'Phone':phnu}\n",
    "        find = records.find(que)\n",
    "        if len(list(find)) > 0: \n",
    "            print(\"Record found... Please enter the updated name\")\n",
    "            na = input(\"Enter new name: \")\n",
    "            nee = {\"$set\":{'name':na}}\n",
    "            records.update_one(que,nee)\n",
    "            print(f\"{phnu} -- {na} record updated successfully\")\n",
    "inpp = starting()\n",
    "if inpp == 1:\n",
    "    search()\n",
    "elif inpp == 2:\n",
    "    addition()\n",
    "elif inpp == 3:\n",
    "    delete()\n",
    "elif inpp == 4:\n",
    "    update()"
   ]
  }
 ],
 "metadata": {
  "kernelspec": {
   "display_name": "Python 3 (ipykernel)",
   "language": "python",
   "name": "python3"
  },
  "language_info": {
   "codemirror_mode": {
    "name": "ipython",
    "version": 3
   },
   "file_extension": ".py",
   "mimetype": "text/x-python",
   "name": "python",
   "nbconvert_exporter": "python",
   "pygments_lexer": "ipython3",
   "version": "3.9.13"
  }
 },
 "nbformat": 4,
 "nbformat_minor": 5
}
